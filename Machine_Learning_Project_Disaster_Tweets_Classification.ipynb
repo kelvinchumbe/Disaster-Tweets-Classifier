{
  "nbformat": 4,
  "nbformat_minor": 0,
  "metadata": {
    "accelerator": "GPU",
    "colab": {
      "name": "Machine Learning Project_Disaster Tweets Classification",
      "provenance": [],
      "collapsed_sections": []
    },
    "kernelspec": {
      "display_name": "Python 3",
      "name": "python3"
    }
  },
  "cells": [
    {
      "cell_type": "code",
      "metadata": {
        "id": "iksoRkPZetq8"
      },
      "source": [
        "# import the necessary dependencies\n",
        "import tensorflow as tf\n",
        "from tensorflow.keras.preprocessing.text import Tokenizer\n",
        "from tensorflow.keras.preprocessing.sequence import pad_sequences\n",
        "from tensorflow.keras.models import Sequential\n",
        "from tensorflow.keras.layers import Dense, Flatten, Embedding, Dropout, LSTM, Bidirectional, SpatialDropout1D, Conv1D, MaxPooling1D\n",
        "from tensorflow.keras.utils import to_categorical\n",
        "from tensorflow.keras.optimizers import RMSprop, Adam\n",
        "from tensorflow.keras.callbacks import EarlyStopping\n",
        "\n",
        "import nltk\n",
        "from nltk.corpus import stopwords\n",
        "from nltk.stem import WordNetLemmatizer\n",
        "\n",
        "import pandas as pd\n",
        "import numpy as np\n",
        "import matplotlib.pyplot as plt\n",
        "import re\n",
        "import pickle\n",
        "\n",
        "%matplotlib inline"
      ],
      "execution_count": null,
      "outputs": []
    },
    {
      "cell_type": "code",
      "metadata": {
        "colab": {
          "base_uri": "https://localhost:8080/"
        },
        "id": "EOHPK196-Ofp",
        "outputId": "2dd065d5-e242-4f8e-8136-52ab380a1776"
      },
      "source": [
        "# Download stopwords from nltk module\n",
        "nltk.download('stopwords')\n",
        "\n",
        "# Download wordnet from nltk module\n",
        "nltk.download('wordnet')"
      ],
      "execution_count": null,
      "outputs": [
        {
          "output_type": "stream",
          "text": [
            "[nltk_data] Downloading package stopwords to /root/nltk_data...\n",
            "[nltk_data]   Unzipping corpora/stopwords.zip.\n",
            "[nltk_data] Downloading package wordnet to /root/nltk_data...\n",
            "[nltk_data]   Unzipping corpora/wordnet.zip.\n"
          ],
          "name": "stdout"
        },
        {
          "output_type": "execute_result",
          "data": {
            "text/plain": [
              "True"
            ]
          },
          "metadata": {
            "tags": []
          },
          "execution_count": 2
        }
      ]
    },
    {
      "cell_type": "markdown",
      "metadata": {
        "id": "LEuhfp9h8g9h"
      },
      "source": [
        "We'll be using 3 different datasets to build our main corpus.\n",
        "\n",
        "1. Kaggle Disaster Tweets dataset linked [ here](https://www.kaggle.com/c/nlp-getting-started/). \n",
        "\n",
        "2. Nepal Earthquake Tweets dataset (from CrisisNLP)\n",
        "\n",
        "3. Queensland Flood Tweets dataset (from CrisisNLP)"
      ]
    },
    {
      "cell_type": "code",
      "metadata": {
        "id": "0ptZcdAPhLGR"
      },
      "source": [
        "# Load kaggle data\n",
        "kaggle_train = pd.read_csv('/content/drive/My Drive/ML_Datasets/Disaster Tweets/Data/train.csv')"
      ],
      "execution_count": null,
      "outputs": []
    },
    {
      "cell_type": "code",
      "metadata": {
        "colab": {
          "base_uri": "https://localhost:8080/",
          "height": 138
        },
        "id": "kHK8vSSUhclZ",
        "outputId": "9fc3b17e-f8e3-47d3-df47-3c9b92572db4"
      },
      "source": [
        "# Look at the first 3 observations of the kaggle train dataset\n",
        "kaggle_train.head(3)"
      ],
      "execution_count": null,
      "outputs": [
        {
          "output_type": "execute_result",
          "data": {
            "text/html": [
              "<div>\n",
              "<style scoped>\n",
              "    .dataframe tbody tr th:only-of-type {\n",
              "        vertical-align: middle;\n",
              "    }\n",
              "\n",
              "    .dataframe tbody tr th {\n",
              "        vertical-align: top;\n",
              "    }\n",
              "\n",
              "    .dataframe thead th {\n",
              "        text-align: right;\n",
              "    }\n",
              "</style>\n",
              "<table border=\"1\" class=\"dataframe\">\n",
              "  <thead>\n",
              "    <tr style=\"text-align: right;\">\n",
              "      <th></th>\n",
              "      <th>id</th>\n",
              "      <th>keyword</th>\n",
              "      <th>location</th>\n",
              "      <th>text</th>\n",
              "      <th>target</th>\n",
              "    </tr>\n",
              "  </thead>\n",
              "  <tbody>\n",
              "    <tr>\n",
              "      <th>0</th>\n",
              "      <td>1</td>\n",
              "      <td>NaN</td>\n",
              "      <td>NaN</td>\n",
              "      <td>Our Deeds are the Reason of this #earthquake M...</td>\n",
              "      <td>1</td>\n",
              "    </tr>\n",
              "    <tr>\n",
              "      <th>1</th>\n",
              "      <td>4</td>\n",
              "      <td>NaN</td>\n",
              "      <td>NaN</td>\n",
              "      <td>Forest fire near La Ronge Sask. Canada</td>\n",
              "      <td>1</td>\n",
              "    </tr>\n",
              "    <tr>\n",
              "      <th>2</th>\n",
              "      <td>5</td>\n",
              "      <td>NaN</td>\n",
              "      <td>NaN</td>\n",
              "      <td>All residents asked to 'shelter in place' are ...</td>\n",
              "      <td>1</td>\n",
              "    </tr>\n",
              "  </tbody>\n",
              "</table>\n",
              "</div>"
            ],
            "text/plain": [
              "   id keyword  ...                                               text target\n",
              "0   1     NaN  ...  Our Deeds are the Reason of this #earthquake M...      1\n",
              "1   4     NaN  ...             Forest fire near La Ronge Sask. Canada      1\n",
              "2   5     NaN  ...  All residents asked to 'shelter in place' are ...      1\n",
              "\n",
              "[3 rows x 5 columns]"
            ]
          },
          "metadata": {
            "tags": []
          },
          "execution_count": 4
        }
      ]
    },
    {
      "cell_type": "code",
      "metadata": {
        "id": "8m0LBAEthxTo"
      },
      "source": [
        "# Load Nepal earthquake data \n",
        "nepal_earthquake = pd.read_csv('/content/drive/MyDrive/Capstone Project/CAPSTONE PROJECT.rar (Unzipped Files)/CAPSTONE PROJECT/Capstone Project Datasets/ACL_ICWSM_2018_datasets/ACL_ICWSM_2018_datasets/nepal/2015_Nepal_Earthquake_train.tsv', sep='\\t', encoding='latin1')"
      ],
      "execution_count": null,
      "outputs": []
    },
    {
      "cell_type": "code",
      "metadata": {
        "colab": {
          "base_uri": "https://localhost:8080/",
          "height": 138
        },
        "id": "wC0VE_g_jYNw",
        "outputId": "357dbf29-19dd-4974-ce71-090df9d3b731"
      },
      "source": [
        "# Look at the first 3 observations\n",
        "nepal_earthquake.head(3)"
      ],
      "execution_count": null,
      "outputs": [
        {
          "output_type": "execute_result",
          "data": {
            "text/html": [
              "<div>\n",
              "<style scoped>\n",
              "    .dataframe tbody tr th:only-of-type {\n",
              "        vertical-align: middle;\n",
              "    }\n",
              "\n",
              "    .dataframe tbody tr th {\n",
              "        vertical-align: top;\n",
              "    }\n",
              "\n",
              "    .dataframe thead th {\n",
              "        text-align: right;\n",
              "    }\n",
              "</style>\n",
              "<table border=\"1\" class=\"dataframe\">\n",
              "  <thead>\n",
              "    <tr style=\"text-align: right;\">\n",
              "      <th></th>\n",
              "      <th>tweet_id</th>\n",
              "      <th>text</th>\n",
              "      <th>label</th>\n",
              "    </tr>\n",
              "  </thead>\n",
              "  <tbody>\n",
              "    <tr>\n",
              "      <th>0</th>\n",
              "      <td>591902739002560512</td>\n",
              "      <td>RT @AnupKaphle: #Nepal's prime minister addres...</td>\n",
              "      <td>relevant</td>\n",
              "    </tr>\n",
              "    <tr>\n",
              "      <th>1</th>\n",
              "      <td>592939706788216832</td>\n",
              "      <td>@jonsnowC4 So have we; read our friends blog f...</td>\n",
              "      <td>relevant</td>\n",
              "    </tr>\n",
              "    <tr>\n",
              "      <th>2</th>\n",
              "      <td>592591542168252416</td>\n",
              "      <td>Lend a helping hand if you can #Nepal https://...</td>\n",
              "      <td>relevant</td>\n",
              "    </tr>\n",
              "  </tbody>\n",
              "</table>\n",
              "</div>"
            ],
            "text/plain": [
              "             tweet_id  ...     label\n",
              "0  591902739002560512  ...  relevant\n",
              "1  592939706788216832  ...  relevant\n",
              "2  592591542168252416  ...  relevant\n",
              "\n",
              "[3 rows x 3 columns]"
            ]
          },
          "metadata": {
            "tags": []
          },
          "execution_count": 6
        }
      ]
    },
    {
      "cell_type": "code",
      "metadata": {
        "id": "5Xu14n8kAJG5"
      },
      "source": [
        "# Drop rows whose tweets_ids have the wrong data\n",
        "idx = []\n",
        "\n",
        "remove_ids = [593232206622928896, 591911255729786880, 592768434628382720, 592654592157949952, 593261661546487808, 592589809417322496, 592590595975053312]\n",
        "\n",
        "for i in range(nepal_earthquake.shape[0]):\n",
        "  if nepal_earthquake['tweet_id'][i] in remove_ids:\n",
        "    idx.append(i)\n",
        "\n",
        "nepal_earthquake = nepal_earthquake.drop(idx, axis=0)"
      ],
      "execution_count": null,
      "outputs": []
    },
    {
      "cell_type": "code",
      "metadata": {
        "id": "KBesZ1BYiqw5"
      },
      "source": [
        "# Load the Queensland floods data\n",
        "queensland_floods = pd.read_csv('/content/drive/MyDrive/Capstone Project/CAPSTONE PROJECT.rar (Unzipped Files)/CAPSTONE PROJECT/Capstone Project Datasets/ACL_ICWSM_2018_datasets/ACL_ICWSM_2018_datasets/queensland/2013_Queensland_Floods_train.tsv', sep='\\t', encoding='latin1')"
      ],
      "execution_count": null,
      "outputs": []
    },
    {
      "cell_type": "code",
      "metadata": {
        "colab": {
          "base_uri": "https://localhost:8080/",
          "height": 138
        },
        "id": "qYXpXkYGi2U7",
        "outputId": "63507f41-57a7-4d82-f84b-1e075898d456"
      },
      "source": [
        "# Look at the first 3 observations\n",
        "queensland_floods.head(3)"
      ],
      "execution_count": null,
      "outputs": [
        {
          "output_type": "execute_result",
          "data": {
            "text/html": [
              "<div>\n",
              "<style scoped>\n",
              "    .dataframe tbody tr th:only-of-type {\n",
              "        vertical-align: middle;\n",
              "    }\n",
              "\n",
              "    .dataframe tbody tr th {\n",
              "        vertical-align: top;\n",
              "    }\n",
              "\n",
              "    .dataframe thead th {\n",
              "        text-align: right;\n",
              "    }\n",
              "</style>\n",
              "<table border=\"1\" class=\"dataframe\">\n",
              "  <thead>\n",
              "    <tr style=\"text-align: right;\">\n",
              "      <th></th>\n",
              "      <th>tweet_id</th>\n",
              "      <th>text</th>\n",
              "      <th>label</th>\n",
              "    </tr>\n",
              "  </thead>\n",
              "  <tbody>\n",
              "    <tr>\n",
              "      <th>0</th>\n",
              "      <td>295541465013182465</td>\n",
              "      <td>I just though about the night I went clubbing ...</td>\n",
              "      <td>not_relevant</td>\n",
              "    </tr>\n",
              "    <tr>\n",
              "      <th>1</th>\n",
              "      <td>295485717465935873</td>\n",
              "      <td>Looks like its going to be another long night ...</td>\n",
              "      <td>not_relevant</td>\n",
              "    </tr>\n",
              "    <tr>\n",
              "      <th>2</th>\n",
              "      <td>297292225811972097</td>\n",
              "      <td>@LaniiBanani hahahaha I just told him id have ...</td>\n",
              "      <td>not_relevant</td>\n",
              "    </tr>\n",
              "  </tbody>\n",
              "</table>\n",
              "</div>"
            ],
            "text/plain": [
              "             tweet_id  ...         label\n",
              "0  295541465013182465  ...  not_relevant\n",
              "1  295485717465935873  ...  not_relevant\n",
              "2  297292225811972097  ...  not_relevant\n",
              "\n",
              "[3 rows x 3 columns]"
            ]
          },
          "metadata": {
            "tags": []
          },
          "execution_count": 9
        }
      ]
    },
    {
      "cell_type": "code",
      "metadata": {
        "id": "qbcBjbD0i3ps"
      },
      "source": [
        "def labelEncode(label):\n",
        "  \"\"\" Encode labels: 1 for relevant and 0 for not_relevant\"\"\"\n",
        "\n",
        "  return 1 if label == \"relevant\" else 0"
      ],
      "execution_count": null,
      "outputs": []
    },
    {
      "cell_type": "code",
      "metadata": {
        "id": "-ifiW1Dkn2Rl"
      },
      "source": [
        "# Encode nepal earthquake labels\n",
        "nepal_earthquake['target'] = nepal_earthquake['label'].apply(lambda x: labelEncode(x))"
      ],
      "execution_count": null,
      "outputs": []
    },
    {
      "cell_type": "code",
      "metadata": {
        "id": "Isl2B7zzn5l7"
      },
      "source": [
        "# Encode queensland floods labels\n",
        "queensland_floods['target'] = queensland_floods['label'].apply(lambda x: labelEncode(x))"
      ],
      "execution_count": null,
      "outputs": []
    },
    {
      "cell_type": "code",
      "metadata": {
        "id": "M53_yKmYoele"
      },
      "source": [
        "# Drop irrelevant columns from the nepal earthquake data\n",
        "nepal_earthquake = nepal_earthquake.drop([\"tweet_id\", \"label\"], axis=1)"
      ],
      "execution_count": null,
      "outputs": []
    },
    {
      "cell_type": "code",
      "metadata": {
        "id": "arGe6Le_ozUW"
      },
      "source": [
        "# Drop irrelevant columns from the queensland floods data\n",
        "queensland_floods = queensland_floods.drop([\"tweet_id\", \"label\"], axis=1)"
      ],
      "execution_count": null,
      "outputs": []
    },
    {
      "cell_type": "code",
      "metadata": {
        "id": "BQVPj5k2pu2W"
      },
      "source": [
        "# Drop irrelevant columns from the kaggle train data\n",
        "kaggle_train = kaggle_train.drop([\"id\", \"keyword\", \"location\"], axis=1)"
      ],
      "execution_count": null,
      "outputs": []
    },
    {
      "cell_type": "code",
      "metadata": {
        "id": "LnvJWOB1p3qH"
      },
      "source": [
        "# Concatenate the 3 datasets (kaggle_train, nepal_earthquake, queensland_floods) to create the train corpus\n",
        "train_corpus = pd.concat([kaggle_train, nepal_earthquake, queensland_floods], ignore_index=True)"
      ],
      "execution_count": null,
      "outputs": []
    },
    {
      "cell_type": "code",
      "metadata": {
        "id": "55OL8fXCQ3nm"
      },
      "source": [
        "# Load test set from kaggle\n",
        "test_file = '/content/drive/My Drive/ML_Datasets/Disaster Tweets/Data/test.csv'\n",
        "test_corpus = pd.read_csv(test_file, encoding='latin1')"
      ],
      "execution_count": null,
      "outputs": []
    },
    {
      "cell_type": "code",
      "metadata": {
        "id": "wKhHDD2qRC0M",
        "colab": {
          "base_uri": "https://localhost:8080/",
          "height": 138
        },
        "outputId": "981a361c-4dea-4044-e0a7-4f9aef270c57"
      },
      "source": [
        "# Display first 3 observations from the test data\n",
        "test_corpus.head(3)"
      ],
      "execution_count": null,
      "outputs": [
        {
          "output_type": "execute_result",
          "data": {
            "text/html": [
              "<div>\n",
              "<style scoped>\n",
              "    .dataframe tbody tr th:only-of-type {\n",
              "        vertical-align: middle;\n",
              "    }\n",
              "\n",
              "    .dataframe tbody tr th {\n",
              "        vertical-align: top;\n",
              "    }\n",
              "\n",
              "    .dataframe thead th {\n",
              "        text-align: right;\n",
              "    }\n",
              "</style>\n",
              "<table border=\"1\" class=\"dataframe\">\n",
              "  <thead>\n",
              "    <tr style=\"text-align: right;\">\n",
              "      <th></th>\n",
              "      <th>id</th>\n",
              "      <th>keyword</th>\n",
              "      <th>location</th>\n",
              "      <th>text</th>\n",
              "    </tr>\n",
              "  </thead>\n",
              "  <tbody>\n",
              "    <tr>\n",
              "      <th>0</th>\n",
              "      <td>0</td>\n",
              "      <td>NaN</td>\n",
              "      <td>NaN</td>\n",
              "      <td>Just happened a terrible car crash</td>\n",
              "    </tr>\n",
              "    <tr>\n",
              "      <th>1</th>\n",
              "      <td>2</td>\n",
              "      <td>NaN</td>\n",
              "      <td>NaN</td>\n",
              "      <td>Heard about #earthquake is different cities, s...</td>\n",
              "    </tr>\n",
              "    <tr>\n",
              "      <th>2</th>\n",
              "      <td>3</td>\n",
              "      <td>NaN</td>\n",
              "      <td>NaN</td>\n",
              "      <td>there is a forest fire at spot pond, geese are...</td>\n",
              "    </tr>\n",
              "  </tbody>\n",
              "</table>\n",
              "</div>"
            ],
            "text/plain": [
              "   id keyword location                                               text\n",
              "0   0     NaN      NaN                 Just happened a terrible car crash\n",
              "1   2     NaN      NaN  Heard about #earthquake is different cities, s...\n",
              "2   3     NaN      NaN  there is a forest fire at spot pond, geese are..."
            ]
          },
          "metadata": {
            "tags": []
          },
          "execution_count": 18
        }
      ]
    },
    {
      "cell_type": "code",
      "metadata": {
        "id": "UOXvq0aRRqeW"
      },
      "source": [
        "# Split the train data into train examples and labels\n",
        "train_labels = train_corpus[\"target\"]\n",
        "train_text = train_corpus[\"text\"]"
      ],
      "execution_count": null,
      "outputs": []
    },
    {
      "cell_type": "code",
      "metadata": {
        "id": "HmI0D6jVcnPa"
      },
      "source": [
        "# Get test examples and save the ids from the test observations\n",
        "test_text = test_corpus[\"text\"]\n",
        "test_ids = test_corpus['id']"
      ],
      "execution_count": null,
      "outputs": []
    },
    {
      "cell_type": "markdown",
      "metadata": {
        "id": "dHfSdg8GSrzC"
      },
      "source": [
        "Data Preprocessing and Feature Engineering"
      ]
    },
    {
      "cell_type": "code",
      "metadata": {
        "id": "qoJNZ-CIIf3s"
      },
      "source": [
        "# Define some common contractions in English \n",
        "contractions = { \n",
        "\"ain't\": \"am not / are not / is not / has not / have not\",\n",
        "\"aren't\": \"are not / am not\",\n",
        "\"can't\": \"cannot\",\n",
        "\"can't've\": \"cannot have\",\n",
        "\"'cause\": \"because\",\n",
        "\"could've\": \"could have\",\n",
        "\"couldn't\": \"could not\",\n",
        "\"couldn't've\": \"could not have\",\n",
        "\"didn't\": \"did not\",\n",
        "\"doesn't\": \"does not\",\n",
        "\"don't\": \"do not\",\n",
        "\"hadn't\": \"had not\",\n",
        "\"hadn't've\": \"had not have\",\n",
        "\"hasn't\": \"has not\",\n",
        "\"haven't\": \"have not\",\n",
        "\"he'd\": \"he had / he would\",\n",
        "\"he'd've\": \"he would have\",\n",
        "\"he'll\": \"he shall / he will\",\n",
        "\"he'll've\": \"he shall have / he will have\",\n",
        "\"he's\": \"he has / he is\",\n",
        "\"how'd\": \"how did\",\n",
        "\"how'd'y\": \"how do you\",\n",
        "\"how'll\": \"how will\",\n",
        "\"how's\": \"how has / how is / how does\",\n",
        "\"I'd\": \"I had / I would\",\n",
        "\"I'd've\": \"I would have\",\n",
        "\"I'll\": \"I shall / I will\",\n",
        "\"I'll've\": \"I shall have / I will have\",\n",
        "\"I'm\": \"I am\",\n",
        "\"I've\": \"I have\",\n",
        "\"isn't\": \"is not\",\n",
        "\"it'd\": \"it had / it would\",\n",
        "\"it'd've\": \"it would have\",\n",
        "\"it'll\": \"it shall / it will\",\n",
        "\"it'll've\": \"it shall have / it will have\",\n",
        "\"it's\": \"it has / it is\",\n",
        "\"let's\": \"let us\",\n",
        "\"ma'am\": \"madam\",\n",
        "\"mayn't\": \"may not\",\n",
        "\"might've\": \"might have\",\n",
        "\"mightn't\": \"might not\",\n",
        "\"mightn't've\": \"might not have\",\n",
        "\"must've\": \"must have\",\n",
        "\"mustn't\": \"must not\",\n",
        "\"mustn't've\": \"must not have\",\n",
        "\"needn't\": \"need not\",\n",
        "\"needn't've\": \"need not have\",\n",
        "\"o'clock\": \"of the clock\",\n",
        "\"oughtn't\": \"ought not\",\n",
        "\"oughtn't've\": \"ought not have\",\n",
        "\"shan't\": \"shall not\",\n",
        "\"sha'n't\": \"shall not\",\n",
        "\"shan't've\": \"shall not have\",\n",
        "\"she'd\": \"she had / she would\",\n",
        "\"she'd've\": \"she would have\",\n",
        "\"she'll\": \"she shall / she will\",\n",
        "\"she'll've\": \"she shall have / she will have\",\n",
        "\"she's\": \"she has / she is\",\n",
        "\"should've\": \"should have\",\n",
        "\"shouldn't\": \"should not\",\n",
        "\"shouldn't've\": \"should not have\",\n",
        "\"so've\": \"so have\",\n",
        "\"so's\": \"so as / so is\",\n",
        "\"that'd\": \"that would / that had\",\n",
        "\"that'd've\": \"that would have\",\n",
        "\"that's\": \"that has / that is\",\n",
        "\"there'd\": \"there had / there would\",\n",
        "\"there'd've\": \"there would have\",\n",
        "\"there's\": \"there has / there is\",\n",
        "\"they'd\": \"they had / they would\",\n",
        "\"they'd've\": \"they would have\",\n",
        "\"they'll\": \"they shall / they will\",\n",
        "\"they'll've\": \"they shall have / they will have\",\n",
        "\"they're\": \"they are\",\n",
        "\"they've\": \"they have\",\n",
        "\"to've\": \"to have\",\n",
        "\"wasn't\": \"was not\",\n",
        "\"we'd\": \"we had / we would\",\n",
        "\"we'd've\": \"we would have\",\n",
        "\"we'll\": \"we will\",\n",
        "\"we'll've\": \"we will have\",\n",
        "\"we're\": \"we are\",\n",
        "\"we've\": \"we have\",\n",
        "\"weren't\": \"were not\",\n",
        "\"what'll\": \"what shall / what will\",\n",
        "\"what'll've\": \"what shall have / what will have\",\n",
        "\"what're\": \"what are\",\n",
        "\"what's\": \"what has / what is\",\n",
        "\"what've\": \"what have\",\n",
        "\"when's\": \"when has / when is\",\n",
        "\"when've\": \"when have\",\n",
        "\"where'd\": \"where did\",\n",
        "\"where's\": \"where has / where is\",\n",
        "\"where've\": \"where have\",\n",
        "\"who'll\": \"who shall / who will\",\n",
        "\"who'll've\": \"who shall have / who will have\",\n",
        "\"who's\": \"who has / who is\",\n",
        "\"who've\": \"who have\",\n",
        "\"why's\": \"why has / why is\",\n",
        "\"why've\": \"why have\",\n",
        "\"will've\": \"will have\",\n",
        "\"won't\": \"will not\",\n",
        "\"won't've\": \"will not have\",\n",
        "\"would've\": \"would have\",\n",
        "\"wouldn't\": \"would not\",\n",
        "\"wouldn't've\": \"would not have\",\n",
        "\"y'all\": \"you all\",\n",
        "\"y'all'd\": \"you all would\",\n",
        "\"y'all'd've\": \"you all would have\",\n",
        "\"y'all're\": \"you all are\",\n",
        "\"y'all've\": \"you all have\",\n",
        "\"you'd\": \"you had / you would\",\n",
        "\"you'd've\": \"you would have\",\n",
        "\"you'll\": \"you shall / you will\",\n",
        "\"you'll've\": \"you shall have / you will have\",\n",
        "\"you're\": \"you are\",\n",
        "\"you've\": \"you have\"\n",
        "}\n"
      ],
      "execution_count": null,
      "outputs": []
    },
    {
      "cell_type": "code",
      "metadata": {
        "id": "hkPjwAGOSn4e"
      },
      "source": [
        "# Define some preprocessing helper functions\n",
        "\n",
        "def removeHyperLinks(words):\n",
        "  \"\"\" Remove hyperlinks from the texts \"\"\"\n",
        "\n",
        "  new_words = []\n",
        "  for word in words:\n",
        "    new_word = re.sub(r\"http\\S+\", \"\", word)\n",
        "    if new_word != '':\n",
        "      new_words.append(new_word)\n",
        "  return new_words\n",
        "\n",
        "def removeUsernames(words):\n",
        "  \"\"\" Remove @username from the tweet\"\"\"\n",
        "\n",
        "  new_words = []\n",
        "  for word in words:\n",
        "    new_word = re.sub('@[\\w]+','',word)\n",
        "    if new_word != '':\n",
        "      new_words.append(new_word)\n",
        "  return new_words\n",
        "\n",
        "def removeHashtags(words):\n",
        "  \"\"\" Remove #hashtags symbol from the tweet\"\"\"\n",
        "\n",
        "  new_words = []\n",
        "  for word in words:\n",
        "    new_word = re.sub(\"([^0-9A-Za-z \\t])|(\\w+:\\/\\/\\S+)\", '', word)\n",
        "    if new_word != '':\n",
        "      new_words.append(new_word)\n",
        "  return new_words\n",
        "\n",
        "def removePunctuation(words):\n",
        "    \"\"\"Remove punctuation from the tweet\"\"\"\n",
        "\n",
        "    new_words = []\n",
        "    for word in words:\n",
        "      new_word = re.sub(r'[^\\w\\s]', '', word)\n",
        "      if new_word != '':\n",
        "        new_words.append(new_word)\n",
        "    return new_words\n",
        "\n",
        "def expandContractions(words):\n",
        "  \"\"\" Expand contractions from the tweet\"\"\"\n",
        "\n",
        "  new_words = []\n",
        "  for word in words:\n",
        "    expanded = contractions.get(word, word)\n",
        "    new_word = expanded.split(\" \")\n",
        "    new_words = new_words + new_word\n",
        "  \n",
        "  return new_words\n",
        "\n",
        "def removeStopWords(words):\n",
        "    \"\"\"Remove stop words from the tweet\"\"\"\n",
        "\n",
        "    new_words = []\n",
        "    for word in words:\n",
        "      if word not in stopwords.words('english'):\n",
        "        new_words.append(word)\n",
        "    return new_words\n",
        "\n",
        "def lemmatizeWords(words):\n",
        "    \"\"\"Lemmatize the words\"\"\"\n",
        "    \n",
        "    lemmatizer = WordNetLemmatizer()\n",
        "    lemmas = []\n",
        "    for word in words:\n",
        "      lemma = lemmatizer.lemmatize(word, pos='v')\n",
        "      lemmas.append(lemma)\n",
        "    return lemmas\n",
        "\n",
        "def removeRT(words):\n",
        "  \"\"\"Remove RT which indicates the tweet is a retweet\"\"\"\n",
        "\n",
        "  new_words = []\n",
        "  for word in words:\n",
        "    new_word = re.sub(r'RT', '', word)\n",
        "    if new_word != '':\n",
        "        new_words.append(new_word)\n",
        "  return new_words\n",
        "\n",
        "\n",
        "def preprocessTweets(tweet):\n",
        "  \"\"\" Combines all preprocessing steps for the tweets\"\"\"\n",
        "  tweet = tweet.split(\" \")\n",
        "  \n",
        "  tweet = removeHyperLinks(tweet)\n",
        "  tweet = removeUsernames(tweet)\n",
        "  tweet = removeHashtags(tweet)\n",
        "  tweet = expandContractions(tweet)\n",
        "  tweet = removeStopWords(tweet)\n",
        "  tweet = removePunctuation(tweet)\n",
        "  tweet = removeRT(tweet)\n",
        "  tweet = lemmatizeWords(tweet)\n",
        "\n",
        "  return tweet"
      ],
      "execution_count": null,
      "outputs": []
    },
    {
      "cell_type": "code",
      "metadata": {
        "id": "E6iWxQi8cNUI"
      },
      "source": [
        "# Preprocess tweets from the train text\n",
        "train_text = train_text.apply(lambda x: preprocessTweets(x))"
      ],
      "execution_count": null,
      "outputs": []
    },
    {
      "cell_type": "code",
      "metadata": {
        "id": "1S0Lffqebzo9",
        "colab": {
          "base_uri": "https://localhost:8080/"
        },
        "outputId": "020e49a2-f544-4349-d776-f9a7a23e3079"
      },
      "source": [
        "# Check to ensure tweets have been preprocessed\n",
        "train_text[7610:7620]"
      ],
      "execution_count": null,
      "outputs": [
        {
          "output_type": "execute_result",
          "data": {
            "text/plain": [
              "7610             [M194, 0104, UTC5km, S, Volcano, Hawaii]\n",
              "7611    [Police, investigate, ebike, collide, car, Lit...\n",
              "7612    [The, Latest, More, Homes, Razed, Northern, Ca...\n",
              "7613    [Nepals, prime, minister, address, country, 1s...\n",
              "7614             [So, read, friends, blog, Lamjung, work]\n",
              "7615                            [Lend, help, hand, Nepal]\n",
              "7616    [theyve, manage, reach, Kathmandu, help, guide...\n",
              "7617    [Israel, Sending, Aid, Teams, Nepal, After, Qu...\n",
              "7618    [All, Shiv, Sena, MPs, give, 1, months, salary...\n",
              "7619    [British, archeologist, terrify, narrowly, esc...\n",
              "Name: text, dtype: object"
            ]
          },
          "metadata": {
            "tags": []
          },
          "execution_count": 24
        }
      ]
    },
    {
      "cell_type": "code",
      "metadata": {
        "id": "hdOn47N_cZyV"
      },
      "source": [
        "# Preprocess tweets from the test text\n",
        "test_text = test_text.apply(lambda x: preprocessTweets(x))"
      ],
      "execution_count": null,
      "outputs": []
    },
    {
      "cell_type": "code",
      "metadata": {
        "id": "7IM3R0zqczen",
        "colab": {
          "base_uri": "https://localhost:8080/"
        },
        "outputId": "02244c83-ecd7-4495-e6fb-e3b400e7d871"
      },
      "source": [
        "# One hot encode the train labels\n",
        "train_labels = to_categorical(train_labels)\n",
        "train_labels[:5]"
      ],
      "execution_count": null,
      "outputs": [
        {
          "output_type": "execute_result",
          "data": {
            "text/plain": [
              "array([[0., 1.],\n",
              "       [0., 1.],\n",
              "       [0., 1.],\n",
              "       [0., 1.],\n",
              "       [0., 1.]], dtype=float32)"
            ]
          },
          "metadata": {
            "tags": []
          },
          "execution_count": 26
        }
      ]
    },
    {
      "cell_type": "code",
      "metadata": {
        "id": "yc4p5-HcdTkZ"
      },
      "source": [
        "# Define a function to reverse one hot encoded labels\n",
        "def reverseEncoded(encoded_labels):\n",
        "  return np.argmax(encoded_labels, axis=1)"
      ],
      "execution_count": null,
      "outputs": []
    },
    {
      "cell_type": "code",
      "metadata": {
        "id": "bllkjKxQ2T3z"
      },
      "source": [
        "# Define the diectory to the GloVe\n",
        "GLOVE_DIR = \"/content/drive/MyDrive/ML_Datasets/Disaster Tweets/glove.6B.100d.txt\""
      ],
      "execution_count": null,
      "outputs": []
    },
    {
      "cell_type": "code",
      "metadata": {
        "id": "IBRVserm30gv"
      },
      "source": [
        "# Create an embeddings dictionary from the GloVe vectors\n",
        "def createGloveEmbeddings():\n",
        "  embeddings_dict = {}\n",
        "  f = open(GLOVE_DIR, encoding=\"utf8\")\n",
        "  for line in f:\n",
        "      values = line.split()\n",
        "      word = values[0]\n",
        "      try:\n",
        "          coefs = np.asarray(values[1:], dtype='float32')\n",
        "      except:\n",
        "          pass\n",
        "      embeddings_dict[word] = coefs\n",
        "  f.close()\n",
        "  return embeddings_dict"
      ],
      "execution_count": null,
      "outputs": []
    },
    {
      "cell_type": "code",
      "metadata": {
        "id": "6j9kxKtJuOwj"
      },
      "source": [
        "# Concatenate our train and test sets, tokenize the tweets and create a vocabulary of our corpus\n",
        "def prepare_model_input(tokenizer, embedding_dict, X_train, X_test=None, max_sequence_len=50):\n",
        "    if X_test is not None: \n",
        "      text = np.concatenate((X_train, X_test), axis=0)\n",
        "      text = np.array(text)\n",
        "    else:\n",
        "      text = X_train\n",
        "    \n",
        "    tokenizer.fit_on_texts(text)\n",
        "    sequences = tokenizer.texts_to_sequences(text)\n",
        "    word_index = tokenizer.word_index\n",
        "    text = pad_sequences(sequences, maxlen=max_sequence_len) \n",
        "    print('Found {} unique tokens.'.format(len(word_index)))\n",
        "\n",
        "    X_train_Glove = text[:len(X_train), ]\n",
        "    X_test_Glove = text[len(X_train):, ]\n",
        "\n",
        "    print('Total {} word vectors.'.format(len(embeddings_dict)))\n",
        "\n",
        "    return (X_train_Glove, X_test_Glove, word_index)"
      ],
      "execution_count": null,
      "outputs": []
    },
    {
      "cell_type": "code",
      "metadata": {
        "id": "ZTAEv9qK1C48"
      },
      "source": [
        "# Build weight matrix from the vocabulary and embeddings dictionary\n",
        "def buildWeightMatrix(word_index, embeddings_dict, EMBEDDING_DIM=100,):\n",
        "    embedding_matrix = np.random.random((len(word_index) + 1, EMBEDDING_DIM))\n",
        "    for word, i in word_index.items():\n",
        "        embedding_vector = embeddings_dict.get(word)\n",
        "        if embedding_vector is not None:\n",
        "            if len(embedding_matrix[i]) != len(embedding_vector):\n",
        "                print(\"could not broadcast input array from shape\")\n",
        "                exit(1)\n",
        "            embedding_matrix[i] = embedding_vector\n",
        "\n",
        "    return embedding_matrix"
      ],
      "execution_count": null,
      "outputs": []
    },
    {
      "cell_type": "markdown",
      "metadata": {
        "id": "J-BSIh66gi7o"
      },
      "source": [
        "Modeling"
      ]
    },
    {
      "cell_type": "code",
      "metadata": {
        "id": "lC4mE7W-05G8"
      },
      "source": [
        "# Build a Bidirectional Long Short-Term Memory (BLSTM) model\n",
        "def build_bilstm(word_index, embeddings_dict, embedding_matrix, nclasses,  max_sequence_len, EMBEDDING_DIM=50):\n",
        "    model = Sequential()\n",
        "    model.add(Embedding(len(word_index) + 1,\n",
        "                                EMBEDDING_DIM,\n",
        "                                weights=[embedding_matrix],\n",
        "                                input_length=max_sequence_len,\n",
        "                                trainable=False))\n",
        "    \n",
        "    model.add(SpatialDropout1D(0.2))\n",
        "    model.add(Bidirectional(LSTM(150, return_sequences=True)))\n",
        "    model.add(Dropout(0.2))\n",
        "    model.add(Bidirectional(LSTM(150, return_sequences=True)))\n",
        "    model.add(Dropout(0.2))\n",
        "    model.add(Bidirectional(LSTM(150, return_sequences=True)))\n",
        "    model.add(Dropout(0.2))\n",
        "    model.add(Bidirectional(LSTM(150)))\n",
        "    model.add(Dropout(0.2))\n",
        "\n",
        "    model.add(Dense(512, activation='relu'))\n",
        "    model.add(Dropout(0.6))\n",
        "    model.add(Dense(nclasses, activation='softmax'))\n",
        "\n",
        "    # Compile the model\n",
        "    model.compile(loss='categorical_crossentropy',\n",
        "                      optimizer=Adam(learning_rate=0.0001),\n",
        "                      metrics=['accuracy'])\n",
        "    return model"
      ],
      "execution_count": null,
      "outputs": []
    },
    {
      "cell_type": "code",
      "metadata": {
        "id": "Is8XDScVe8bq"
      },
      "source": [
        "# Build a CNN model for text classification\n",
        "def build_cnn(word_index, embeddings_dict, embedding_matrix, nclasses,  max_sequence_len, EMBEDDING_DIM=50):\n",
        "  model = Sequential()\n",
        "\n",
        "  model.add(Embedding(len(word_index) + 1,\n",
        "                                EMBEDDING_DIM,\n",
        "                                weights=[embedding_matrix],\n",
        "                                input_length=max_sequence_len,\n",
        "                                trainable=False))\n",
        "  \n",
        "  model.add(SpatialDropout1D(0.2))\n",
        "  model.add(Conv1D(64, kernel_size=3, activation=\"relu\"))\n",
        "  model.add(MaxPooling1D(pool_size=2))\n",
        "  model.add(Dropout(0.2))\n",
        "  model.add(Conv1D(128, kernel_size=3, activation=\"relu\"))\n",
        "  model.add(MaxPooling1D(pool_size=2))\n",
        "  model.add(Dropout(0.2))\n",
        "  model.add(Conv1D(256, kernel_size=3, activation=\"relu\"))\n",
        "  model.add(MaxPooling1D(pool_size=2))\n",
        "  model.add(Dropout(0.2))\n",
        "  model.add(Conv1D(512, kernel_size=3, activation=\"relu\"))\n",
        "  model.add(MaxPooling1D(pool_size=2))\n",
        "  model.add(Dropout(0.2))\n",
        "  model.add(Flatten())\n",
        "  model.add(Dense(512, activation='relu'))\n",
        "  model.add(Dropout(0.6))\n",
        "  model.add(Dense(nclasses, activation='softmax'))\n",
        "\n",
        "# Compile the model \n",
        "  model.compile(loss='categorical_crossentropy',\n",
        "                    optimizer=Adam(learning_rate=0.0001),\n",
        "                    metrics=['accuracy'])\n",
        "  return model"
      ],
      "execution_count": null,
      "outputs": []
    },
    {
      "cell_type": "code",
      "metadata": {
        "id": "_JG5UwQ0IBpl"
      },
      "source": [
        "from sklearn.model_selection import train_test_split"
      ],
      "execution_count": null,
      "outputs": []
    },
    {
      "cell_type": "code",
      "metadata": {
        "id": "g4g5fu_FvV6h",
        "colab": {
          "base_uri": "https://localhost:8080/"
        },
        "outputId": "0fc525f3-6b0b-4df0-8014-2a675fa3fd0a"
      },
      "source": [
        "# Create a tokenizer object\n",
        "tokenizer = Tokenizer() \n",
        "\n",
        "X_train = train_text\n",
        "X_test = test_text\n",
        "\n",
        "max_sequence_len = 50\n",
        "\n",
        "embeddings_dict = createGloveEmbeddings()\n",
        "\n",
        "print(\"Preparing model input ...\")\n",
        "X_train_Glove, X_test_Glove, word_index = prepare_model_input(tokenizer, embeddings_dict, X_train, X_test, max_sequence_len=max_sequence_len)\n",
        "print(\"Done!\")\n",
        "\n",
        "# Split the training data into a train and validation set\n",
        "X_train, X_validation, y_train, y_validation = train_test_split(X_train_Glove, train_labels, test_size = 0.2, random_state=0)\n",
        "\n",
        "# Create and initialize the embedding matrix\n",
        "embedding_matrix = buildWeightMatrix(word_index, embeddings_dict, EMBEDDING_DIM = 100)"
      ],
      "execution_count": null,
      "outputs": [
        {
          "output_type": "stream",
          "text": [
            "Preparing model input ...\n",
            "Found 28021 unique tokens.\n",
            "Total 400000 word vectors.\n",
            "Done!\n"
          ],
          "name": "stdout"
        }
      ]
    },
    {
      "cell_type": "code",
      "metadata": {
        "id": "fADnfsVDfbI_"
      },
      "source": [
        "# Save the tokenizer object\r\n",
        "tokenizer_file = \"tokenizer.pkl\"\r\n",
        "\r\n",
        "pickle.dump(tokenizer, open(tokenizer_file, \"wb\"))"
      ],
      "execution_count": null,
      "outputs": []
    },
    {
      "cell_type": "code",
      "metadata": {
        "id": "HucymAyC_jvd"
      },
      "source": [
        "# Create a callback to stop training once validation loss stops improving\n",
        "earlystopping = EarlyStopping(\n",
        "    monitor=\"val_loss\",\n",
        "    min_delta=0,\n",
        "    patience=4,\n",
        "    verbose=0,\n",
        "    mode=\"auto\",\n",
        ")"
      ],
      "execution_count": null,
      "outputs": []
    },
    {
      "cell_type": "code",
      "metadata": {
        "id": "7ACD9ljXiyKV",
        "colab": {
          "base_uri": "https://localhost:8080/"
        },
        "outputId": "b1525b37-baee-4b1b-92b8-e9e39698d46b"
      },
      "source": [
        "cnn_model = build_cnn(word_index, embeddings_dict, embedding_matrix, 2, max_sequence_len, EMBEDDING_DIM = 100)\n",
        "cnn_model.summary()"
      ],
      "execution_count": null,
      "outputs": [
        {
          "output_type": "stream",
          "text": [
            "Model: \"sequential\"\n",
            "_________________________________________________________________\n",
            "Layer (type)                 Output Shape              Param #   \n",
            "=================================================================\n",
            "embedding (Embedding)        (None, 50, 100)           2802200   \n",
            "_________________________________________________________________\n",
            "spatial_dropout1d (SpatialDr (None, 50, 100)           0         \n",
            "_________________________________________________________________\n",
            "conv1d (Conv1D)              (None, 48, 64)            19264     \n",
            "_________________________________________________________________\n",
            "max_pooling1d (MaxPooling1D) (None, 24, 64)            0         \n",
            "_________________________________________________________________\n",
            "dropout (Dropout)            (None, 24, 64)            0         \n",
            "_________________________________________________________________\n",
            "conv1d_1 (Conv1D)            (None, 22, 128)           24704     \n",
            "_________________________________________________________________\n",
            "max_pooling1d_1 (MaxPooling1 (None, 11, 128)           0         \n",
            "_________________________________________________________________\n",
            "dropout_1 (Dropout)          (None, 11, 128)           0         \n",
            "_________________________________________________________________\n",
            "conv1d_2 (Conv1D)            (None, 9, 256)            98560     \n",
            "_________________________________________________________________\n",
            "max_pooling1d_2 (MaxPooling1 (None, 4, 256)            0         \n",
            "_________________________________________________________________\n",
            "dropout_2 (Dropout)          (None, 4, 256)            0         \n",
            "_________________________________________________________________\n",
            "conv1d_3 (Conv1D)            (None, 2, 512)            393728    \n",
            "_________________________________________________________________\n",
            "max_pooling1d_3 (MaxPooling1 (None, 1, 512)            0         \n",
            "_________________________________________________________________\n",
            "dropout_3 (Dropout)          (None, 1, 512)            0         \n",
            "_________________________________________________________________\n",
            "flatten (Flatten)            (None, 512)               0         \n",
            "_________________________________________________________________\n",
            "dense (Dense)                (None, 512)               262656    \n",
            "_________________________________________________________________\n",
            "dropout_4 (Dropout)          (None, 512)               0         \n",
            "_________________________________________________________________\n",
            "dense_1 (Dense)              (None, 2)                 1026      \n",
            "=================================================================\n",
            "Total params: 3,602,138\n",
            "Trainable params: 799,938\n",
            "Non-trainable params: 2,802,200\n",
            "_________________________________________________________________\n"
          ],
          "name": "stdout"
        }
      ]
    },
    {
      "cell_type": "code",
      "metadata": {
        "id": "eaVLSdWgjA4z",
        "colab": {
          "base_uri": "https://localhost:8080/"
        },
        "outputId": "6fe82ca8-b079-4657-8608-856ca69772c2"
      },
      "source": [
        "# Train the cnn model\n",
        "BATCH_SIZE = 128\n",
        "history = cnn_model.fit(X_train, y_train, validation_data=(X_validation, y_validation), epochs=50, batch_size=BATCH_SIZE, callbacks=[earlystopping])"
      ],
      "execution_count": null,
      "outputs": [
        {
          "output_type": "stream",
          "text": [
            "Epoch 1/50\n",
            "129/129 [==============================] - 1s 9ms/step - loss: 0.6979 - accuracy: 0.5202 - val_loss: 0.6844 - val_accuracy: 0.5778\n",
            "Epoch 2/50\n",
            "129/129 [==============================] - 1s 6ms/step - loss: 0.6688 - accuracy: 0.5932 - val_loss: 0.6465 - val_accuracy: 0.6185\n",
            "Epoch 3/50\n",
            "129/129 [==============================] - 1s 6ms/step - loss: 0.5976 - accuracy: 0.6856 - val_loss: 0.5637 - val_accuracy: 0.7279\n",
            "Epoch 4/50\n",
            "129/129 [==============================] - 1s 6ms/step - loss: 0.5619 - accuracy: 0.7251 - val_loss: 0.5504 - val_accuracy: 0.7359\n",
            "Epoch 5/50\n",
            "129/129 [==============================] - 1s 6ms/step - loss: 0.5538 - accuracy: 0.7247 - val_loss: 0.5419 - val_accuracy: 0.7423\n",
            "Epoch 6/50\n",
            "129/129 [==============================] - 1s 6ms/step - loss: 0.5438 - accuracy: 0.7329 - val_loss: 0.5296 - val_accuracy: 0.7467\n",
            "Epoch 7/50\n",
            "129/129 [==============================] - 1s 6ms/step - loss: 0.5368 - accuracy: 0.7391 - val_loss: 0.5209 - val_accuracy: 0.7513\n",
            "Epoch 8/50\n",
            "129/129 [==============================] - 1s 7ms/step - loss: 0.5327 - accuracy: 0.7393 - val_loss: 0.5188 - val_accuracy: 0.7523\n",
            "Epoch 9/50\n",
            "129/129 [==============================] - 1s 6ms/step - loss: 0.5284 - accuracy: 0.7433 - val_loss: 0.5123 - val_accuracy: 0.7598\n",
            "Epoch 10/50\n",
            "129/129 [==============================] - 1s 6ms/step - loss: 0.5256 - accuracy: 0.7474 - val_loss: 0.5100 - val_accuracy: 0.7610\n",
            "Epoch 11/50\n",
            "129/129 [==============================] - 1s 6ms/step - loss: 0.5219 - accuracy: 0.7478 - val_loss: 0.5055 - val_accuracy: 0.7625\n",
            "Epoch 12/50\n",
            "129/129 [==============================] - 1s 6ms/step - loss: 0.5203 - accuracy: 0.7465 - val_loss: 0.5038 - val_accuracy: 0.7600\n",
            "Epoch 13/50\n",
            "129/129 [==============================] - 1s 6ms/step - loss: 0.5157 - accuracy: 0.7541 - val_loss: 0.5010 - val_accuracy: 0.7630\n",
            "Epoch 14/50\n",
            "129/129 [==============================] - 1s 6ms/step - loss: 0.5166 - accuracy: 0.7521 - val_loss: 0.5004 - val_accuracy: 0.7642\n",
            "Epoch 15/50\n",
            "129/129 [==============================] - 1s 6ms/step - loss: 0.5100 - accuracy: 0.7560 - val_loss: 0.4995 - val_accuracy: 0.7639\n",
            "Epoch 16/50\n",
            "129/129 [==============================] - 1s 6ms/step - loss: 0.5088 - accuracy: 0.7567 - val_loss: 0.4966 - val_accuracy: 0.7625\n",
            "Epoch 17/50\n",
            "129/129 [==============================] - 1s 6ms/step - loss: 0.5069 - accuracy: 0.7586 - val_loss: 0.4955 - val_accuracy: 0.7632\n",
            "Epoch 18/50\n",
            "129/129 [==============================] - 1s 6ms/step - loss: 0.5029 - accuracy: 0.7605 - val_loss: 0.4944 - val_accuracy: 0.7642\n",
            "Epoch 19/50\n",
            "129/129 [==============================] - 1s 6ms/step - loss: 0.5027 - accuracy: 0.7600 - val_loss: 0.4937 - val_accuracy: 0.7608\n",
            "Epoch 20/50\n",
            "129/129 [==============================] - 1s 6ms/step - loss: 0.5021 - accuracy: 0.7599 - val_loss: 0.4921 - val_accuracy: 0.7620\n",
            "Epoch 21/50\n",
            "129/129 [==============================] - 1s 6ms/step - loss: 0.4992 - accuracy: 0.7609 - val_loss: 0.4935 - val_accuracy: 0.7639\n",
            "Epoch 22/50\n",
            "129/129 [==============================] - 1s 6ms/step - loss: 0.4951 - accuracy: 0.7650 - val_loss: 0.4905 - val_accuracy: 0.7649\n",
            "Epoch 23/50\n",
            "129/129 [==============================] - 1s 6ms/step - loss: 0.4913 - accuracy: 0.7669 - val_loss: 0.4905 - val_accuracy: 0.7654\n",
            "Epoch 24/50\n",
            "129/129 [==============================] - 1s 6ms/step - loss: 0.4919 - accuracy: 0.7648 - val_loss: 0.4892 - val_accuracy: 0.7654\n",
            "Epoch 25/50\n",
            "129/129 [==============================] - 1s 6ms/step - loss: 0.4895 - accuracy: 0.7667 - val_loss: 0.4884 - val_accuracy: 0.7676\n",
            "Epoch 26/50\n",
            "129/129 [==============================] - 1s 6ms/step - loss: 0.4876 - accuracy: 0.7647 - val_loss: 0.4887 - val_accuracy: 0.7669\n",
            "Epoch 27/50\n",
            "129/129 [==============================] - 1s 6ms/step - loss: 0.4904 - accuracy: 0.7666 - val_loss: 0.4885 - val_accuracy: 0.7715\n",
            "Epoch 28/50\n",
            "129/129 [==============================] - 1s 6ms/step - loss: 0.4840 - accuracy: 0.7697 - val_loss: 0.4870 - val_accuracy: 0.7720\n",
            "Epoch 29/50\n",
            "129/129 [==============================] - 1s 6ms/step - loss: 0.4842 - accuracy: 0.7718 - val_loss: 0.4870 - val_accuracy: 0.7705\n",
            "Epoch 30/50\n",
            "129/129 [==============================] - 1s 6ms/step - loss: 0.4841 - accuracy: 0.7678 - val_loss: 0.4863 - val_accuracy: 0.7710\n",
            "Epoch 31/50\n",
            "129/129 [==============================] - 1s 6ms/step - loss: 0.4802 - accuracy: 0.7720 - val_loss: 0.4894 - val_accuracy: 0.7691\n",
            "Epoch 32/50\n",
            "129/129 [==============================] - 1s 6ms/step - loss: 0.4798 - accuracy: 0.7697 - val_loss: 0.4852 - val_accuracy: 0.7691\n",
            "Epoch 33/50\n",
            "129/129 [==============================] - 1s 6ms/step - loss: 0.4795 - accuracy: 0.7734 - val_loss: 0.4863 - val_accuracy: 0.7708\n",
            "Epoch 34/50\n",
            "129/129 [==============================] - 1s 6ms/step - loss: 0.4751 - accuracy: 0.7765 - val_loss: 0.4858 - val_accuracy: 0.7693\n",
            "Epoch 35/50\n",
            "129/129 [==============================] - 1s 6ms/step - loss: 0.4740 - accuracy: 0.7775 - val_loss: 0.4867 - val_accuracy: 0.7695\n",
            "Epoch 36/50\n",
            "129/129 [==============================] - 1s 6ms/step - loss: 0.4728 - accuracy: 0.7759 - val_loss: 0.4849 - val_accuracy: 0.7742\n",
            "Epoch 37/50\n",
            "129/129 [==============================] - 1s 6ms/step - loss: 0.4696 - accuracy: 0.7813 - val_loss: 0.4858 - val_accuracy: 0.7695\n",
            "Epoch 38/50\n",
            "129/129 [==============================] - 1s 6ms/step - loss: 0.4701 - accuracy: 0.7806 - val_loss: 0.4867 - val_accuracy: 0.7705\n",
            "Epoch 39/50\n",
            "129/129 [==============================] - 1s 6ms/step - loss: 0.4699 - accuracy: 0.7779 - val_loss: 0.4843 - val_accuracy: 0.7710\n",
            "Epoch 40/50\n",
            "129/129 [==============================] - 1s 6ms/step - loss: 0.4692 - accuracy: 0.7797 - val_loss: 0.4859 - val_accuracy: 0.7730\n",
            "Epoch 41/50\n",
            "129/129 [==============================] - 1s 6ms/step - loss: 0.4664 - accuracy: 0.7821 - val_loss: 0.4866 - val_accuracy: 0.7717\n",
            "Epoch 42/50\n",
            "129/129 [==============================] - 1s 6ms/step - loss: 0.4669 - accuracy: 0.7814 - val_loss: 0.4836 - val_accuracy: 0.7744\n",
            "Epoch 43/50\n",
            "129/129 [==============================] - 1s 6ms/step - loss: 0.4648 - accuracy: 0.7814 - val_loss: 0.4847 - val_accuracy: 0.7742\n",
            "Epoch 44/50\n",
            "129/129 [==============================] - 1s 6ms/step - loss: 0.4583 - accuracy: 0.7857 - val_loss: 0.4883 - val_accuracy: 0.7674\n",
            "Epoch 45/50\n",
            "129/129 [==============================] - 1s 6ms/step - loss: 0.4596 - accuracy: 0.7847 - val_loss: 0.4866 - val_accuracy: 0.7727\n",
            "Epoch 46/50\n",
            "129/129 [==============================] - 1s 6ms/step - loss: 0.4610 - accuracy: 0.7825 - val_loss: 0.4880 - val_accuracy: 0.7700\n"
          ],
          "name": "stdout"
        }
      ]
    },
    {
      "cell_type": "code",
      "metadata": {
        "id": "-_f8IpqMgNqw"
      },
      "source": [
        "# Save CNN model\r\n",
        "cnn_model.save(\"cnn_model.h5\")"
      ],
      "execution_count": null,
      "outputs": []
    },
    {
      "cell_type": "markdown",
      "metadata": {
        "id": "8cbBpTfCjmwr"
      },
      "source": [
        "Model Evaluation"
      ]
    },
    {
      "cell_type": "code",
      "metadata": {
        "id": "PjO0YBBC_MAZ",
        "colab": {
          "base_uri": "https://localhost:8080/"
        },
        "outputId": "95cbe362-f14d-47f6-8a26-1b233150b417"
      },
      "source": [
        "# Evaluate the CNN model using the validation set\n",
        "loss, accuracy = cnn_model.evaluate(X_validation, y_validation, batch_size=BATCH_SIZE)\n",
        "print(\"Model Loss: {:.2f}\\nModel Accuracy: {:.2f}\".format(loss, accuracy))"
      ],
      "execution_count": null,
      "outputs": [
        {
          "output_type": "stream",
          "text": [
            "33/33 [==============================] - 0s 3ms/step - loss: 0.4880 - accuracy: 0.7700\n",
            "Model Loss: 0.49\n",
            "Model Accuracy: 0.77\n"
          ],
          "name": "stdout"
        }
      ]
    },
    {
      "cell_type": "code",
      "metadata": {
        "id": "huwbx_EXjlm0"
      },
      "source": [
        "from sklearn.metrics import classification_report, confusion_matrix\n",
        "import seaborn as sns"
      ],
      "execution_count": null,
      "outputs": []
    },
    {
      "cell_type": "code",
      "metadata": {
        "id": "l9p0D9kSmPM_"
      },
      "source": [
        "# Use the CNN model to make predictions\n",
        "y_preds = cnn_model.predict(X_validation)\n",
        "\n",
        "# Generate classes from the one-hot encoded predictions\n",
        "y_preds_classes = reverseEncoded(y_preds)"
      ],
      "execution_count": null,
      "outputs": []
    },
    {
      "cell_type": "code",
      "metadata": {
        "id": "mzIAHqvVkoNA"
      },
      "source": [
        "def visualizeReports(y_validation, y_preds_classes, labels, model_name):\n",
        "  # Visualize the classification report so we can analyze accuracy, precision, recall and f1 score\n",
        "  print(\"Classification Report for {} \\n{} \".format(model_name, classification_report(reverseEncoded(y_validation), y_preds_classes, target_names=labels)))\n",
        "\n",
        "  # Plot a confusion matrix of the predictions\n",
        "  confusion_mx = confusion_matrix(reverseEncoded(y_validation), y_preds_classes)\n",
        "  plt.title(\"Confusion Matrix for \" + model_name)\n",
        "  sns.heatmap(confusion_mx, xticklabels=labels, yticklabels=labels, annot=True, fmt=\".0f\", cmap=plt.cm.Blues)"
      ],
      "execution_count": null,
      "outputs": []
    },
    {
      "cell_type": "code",
      "metadata": {
        "id": "e_Y5G2ALnmSc"
      },
      "source": [
        "# Define the class labels from the data\n",
        "class_labels = [\"0\", \"1\"]"
      ],
      "execution_count": null,
      "outputs": []
    },
    {
      "cell_type": "code",
      "metadata": {
        "id": "CeGwS_wJoyb-",
        "colab": {
          "base_uri": "https://localhost:8080/",
          "height": 463
        },
        "outputId": "c3e81d81-7cc6-4a63-c285-f68118b94da4"
      },
      "source": [
        "visualizeReports(y_validation, y_preds_classes, class_labels, \"CNN\")"
      ],
      "execution_count": null,
      "outputs": [
        {
          "output_type": "stream",
          "text": [
            "Classification Report for CNN \n",
            "              precision    recall  f1-score   support\n",
            "\n",
            "           0       0.72      0.90      0.80      2147\n",
            "           1       0.86      0.62      0.72      1958\n",
            "\n",
            "    accuracy                           0.77      4105\n",
            "   macro avg       0.79      0.76      0.76      4105\n",
            "weighted avg       0.79      0.77      0.76      4105\n",
            " \n"
          ],
          "name": "stdout"
        },
        {
          "output_type": "display_data",
          "data": {
            "image/png": "[encoded data removed]",
            "text/plain": [
              "<Figure size 432x288 with 2 Axes>"
            ]
          },
          "metadata": {
            "tags": [],
            "needs_background": "light"
          }
        }
      ]
    },
    {
      "cell_type": "code",
      "metadata": {
        "id": "XfPjsxOXknUK",
        "colab": {
          "base_uri": "https://localhost:8080/"
        },
        "outputId": "758a0d43-70dd-4026-a0db-b82790ea49d7"
      },
      "source": [
        "# Create a BiLSTM model\n",
        "bilstm_model = build_bilstm(word_index, embeddings_dict, embedding_matrix, 2, max_sequence_len, EMBEDDING_DIM = 100)\n",
        "bilstm_model.summary()"
      ],
      "execution_count": null,
      "outputs": [
        {
          "output_type": "stream",
          "text": [
            "Model: \"sequential_1\"\n",
            "_________________________________________________________________\n",
            "Layer (type)                 Output Shape              Param #   \n",
            "=================================================================\n",
            "embedding_1 (Embedding)      (None, 50, 100)           2802200   \n",
            "_________________________________________________________________\n",
            "spatial_dropout1d_1 (Spatial (None, 50, 100)           0         \n",
            "_________________________________________________________________\n",
            "bidirectional (Bidirectional (None, 50, 300)           301200    \n",
            "_________________________________________________________________\n",
            "dropout_5 (Dropout)          (None, 50, 300)           0         \n",
            "_________________________________________________________________\n",
            "bidirectional_1 (Bidirection (None, 50, 300)           541200    \n",
            "_________________________________________________________________\n",
            "dropout_6 (Dropout)          (None, 50, 300)           0         \n",
            "_________________________________________________________________\n",
            "bidirectional_2 (Bidirection (None, 50, 300)           541200    \n",
            "_________________________________________________________________\n",
            "dropout_7 (Dropout)          (None, 50, 300)           0         \n",
            "_________________________________________________________________\n",
            "bidirectional_3 (Bidirection (None, 300)               541200    \n",
            "_________________________________________________________________\n",
            "dropout_8 (Dropout)          (None, 300)               0         \n",
            "_________________________________________________________________\n",
            "dense_2 (Dense)              (None, 512)               154112    \n",
            "_________________________________________________________________\n",
            "dropout_9 (Dropout)          (None, 512)               0         \n",
            "_________________________________________________________________\n",
            "dense_3 (Dense)              (None, 2)                 1026      \n",
            "=================================================================\n",
            "Total params: 4,882,138\n",
            "Trainable params: 2,079,938\n",
            "Non-trainable params: 2,802,200\n",
            "_________________________________________________________________\n"
          ],
          "name": "stdout"
        }
      ]
    },
    {
      "cell_type": "code",
      "metadata": {
        "id": "VUJl2-QJ20E4",
        "colab": {
          "base_uri": "https://localhost:8080/"
        },
        "outputId": "0bb42403-dfe3-4330-ccb0-2e2e0552675f"
      },
      "source": [
        "# Train the bilstm model\n",
        "BATCH_SIZE = 128\n",
        "history = bilstm_model.fit(X_train, y_train, validation_data=(X_validation, y_validation), epochs=40, batch_size=BATCH_SIZE, callbacks=[earlystopping])"
      ],
      "execution_count": null,
      "outputs": [
        {
          "output_type": "stream",
          "text": [
            "Epoch 1/40\n",
            "129/129 [==============================] - 9s 71ms/step - loss: 0.5662 - accuracy: 0.7004 - val_loss: 0.4664 - val_accuracy: 0.7876\n",
            "Epoch 2/40\n",
            "129/129 [==============================] - 7s 53ms/step - loss: 0.4796 - accuracy: 0.7766 - val_loss: 0.4494 - val_accuracy: 0.7978\n",
            "Epoch 3/40\n",
            "129/129 [==============================] - 7s 53ms/step - loss: 0.4641 - accuracy: 0.7851 - val_loss: 0.4432 - val_accuracy: 0.7968\n",
            "Epoch 4/40\n",
            "129/129 [==============================] - 7s 53ms/step - loss: 0.4553 - accuracy: 0.7897 - val_loss: 0.4360 - val_accuracy: 0.7976\n",
            "Epoch 5/40\n",
            "129/129 [==============================] - 7s 53ms/step - loss: 0.4514 - accuracy: 0.7931 - val_loss: 0.4411 - val_accuracy: 0.7937\n",
            "Epoch 6/40\n",
            "129/129 [==============================] - 7s 53ms/step - loss: 0.4449 - accuracy: 0.7930 - val_loss: 0.4287 - val_accuracy: 0.8017\n",
            "Epoch 7/40\n",
            "129/129 [==============================] - 7s 53ms/step - loss: 0.4394 - accuracy: 0.7964 - val_loss: 0.4422 - val_accuracy: 0.8005\n",
            "Epoch 8/40\n",
            "129/129 [==============================] - 7s 53ms/step - loss: 0.4357 - accuracy: 0.7987 - val_loss: 0.4353 - val_accuracy: 0.7966\n",
            "Epoch 9/40\n",
            "129/129 [==============================] - 7s 54ms/step - loss: 0.4309 - accuracy: 0.8015 - val_loss: 0.4261 - val_accuracy: 0.8024\n",
            "Epoch 10/40\n",
            "129/129 [==============================] - 7s 54ms/step - loss: 0.4279 - accuracy: 0.8039 - val_loss: 0.4270 - val_accuracy: 0.7995\n",
            "Epoch 11/40\n",
            "129/129 [==============================] - 7s 54ms/step - loss: 0.4246 - accuracy: 0.8041 - val_loss: 0.4214 - val_accuracy: 0.8044\n",
            "Epoch 12/40\n",
            "129/129 [==============================] - 7s 53ms/step - loss: 0.4195 - accuracy: 0.8080 - val_loss: 0.4197 - val_accuracy: 0.8029\n",
            "Epoch 13/40\n",
            "129/129 [==============================] - 7s 54ms/step - loss: 0.4166 - accuracy: 0.8104 - val_loss: 0.4196 - val_accuracy: 0.8061\n",
            "Epoch 14/40\n",
            "129/129 [==============================] - 7s 55ms/step - loss: 0.4112 - accuracy: 0.8098 - val_loss: 0.4178 - val_accuracy: 0.8044\n",
            "Epoch 15/40\n",
            "129/129 [==============================] - 7s 55ms/step - loss: 0.4096 - accuracy: 0.8105 - val_loss: 0.4192 - val_accuracy: 0.8102\n",
            "Epoch 16/40\n",
            "129/129 [==============================] - 7s 55ms/step - loss: 0.4046 - accuracy: 0.8147 - val_loss: 0.4293 - val_accuracy: 0.8037\n",
            "Epoch 17/40\n",
            "129/129 [==============================] - 7s 55ms/step - loss: 0.4041 - accuracy: 0.8175 - val_loss: 0.4162 - val_accuracy: 0.8127\n",
            "Epoch 18/40\n",
            "129/129 [==============================] - 7s 55ms/step - loss: 0.4030 - accuracy: 0.8154 - val_loss: 0.4143 - val_accuracy: 0.8105\n",
            "Epoch 19/40\n",
            "129/129 [==============================] - 7s 55ms/step - loss: 0.3975 - accuracy: 0.8170 - val_loss: 0.4103 - val_accuracy: 0.8151\n",
            "Epoch 20/40\n",
            "129/129 [==============================] - 7s 55ms/step - loss: 0.3934 - accuracy: 0.8201 - val_loss: 0.4143 - val_accuracy: 0.8134\n",
            "Epoch 21/40\n",
            "129/129 [==============================] - 7s 56ms/step - loss: 0.3916 - accuracy: 0.8197 - val_loss: 0.4231 - val_accuracy: 0.8124\n",
            "Epoch 22/40\n",
            "129/129 [==============================] - 7s 56ms/step - loss: 0.3880 - accuracy: 0.8238 - val_loss: 0.4170 - val_accuracy: 0.8175\n",
            "Epoch 23/40\n",
            "129/129 [==============================] - 7s 56ms/step - loss: 0.3916 - accuracy: 0.8215 - val_loss: 0.4061 - val_accuracy: 0.8158\n",
            "Epoch 24/40\n",
            "129/129 [==============================] - 7s 56ms/step - loss: 0.3858 - accuracy: 0.8239 - val_loss: 0.4186 - val_accuracy: 0.8090\n",
            "Epoch 25/40\n",
            "129/129 [==============================] - 7s 56ms/step - loss: 0.3852 - accuracy: 0.8239 - val_loss: 0.4065 - val_accuracy: 0.8180\n",
            "Epoch 26/40\n",
            "129/129 [==============================] - 7s 56ms/step - loss: 0.3823 - accuracy: 0.8256 - val_loss: 0.4080 - val_accuracy: 0.8197\n",
            "Epoch 27/40\n",
            "129/129 [==============================] - 7s 56ms/step - loss: 0.3776 - accuracy: 0.8296 - val_loss: 0.4074 - val_accuracy: 0.8171\n"
          ],
          "name": "stdout"
        }
      ]
    },
    {
      "cell_type": "code",
      "metadata": {
        "id": "NVnu8IgpEs6B"
      },
      "source": [
        "# Save CNN model\r\n",
        "bilstm_model.save(\"bilstm_model.h5\")"
      ],
      "execution_count": null,
      "outputs": []
    },
    {
      "cell_type": "code",
      "metadata": {
        "id": "SdTHJD_jpigB",
        "colab": {
          "base_uri": "https://localhost:8080/"
        },
        "outputId": "eb4a2182-f84a-4804-e824-9c231d9c29c1"
      },
      "source": [
        "# Evaluate the bilstm model\n",
        "loss, accuracy = bilstm_model.evaluate(X_validation, y_validation, batch_size=BATCH_SIZE)\n",
        "print(\"Model Loss: {:.2f}\\nModel Accuracy: {:.2f}\".format(loss, accuracy))"
      ],
      "execution_count": null,
      "outputs": [
        {
          "output_type": "stream",
          "text": [
            "33/33 [==============================] - 1s 18ms/step - loss: 0.4074 - accuracy: 0.8171\n",
            "Model Loss: 0.41\n",
            "Model Accuracy: 0.82\n"
          ],
          "name": "stdout"
        }
      ]
    },
    {
      "cell_type": "code",
      "metadata": {
        "id": "R9scUZcVn5EV"
      },
      "source": [
        "# Use the bilstm model to make predictions\n",
        "y_preds = bilstm_model.predict(X_validation)\n",
        "\n",
        "# Generate classes from the one-hot encoded predictions\n",
        "y_preds_classes = reverseEncoded(y_preds)"
      ],
      "execution_count": null,
      "outputs": []
    },
    {
      "cell_type": "code",
      "metadata": {
        "id": "a8B8Ahlpn5EV",
        "colab": {
          "base_uri": "https://localhost:8080/",
          "height": 463
        },
        "outputId": "390f3035-fb46-4949-b645-c43f25b5ec3d"
      },
      "source": [
        "visualizeReports(y_validation, y_preds_classes, class_labels, \"BiLSTM\")"
      ],
      "execution_count": null,
      "outputs": [
        {
          "output_type": "stream",
          "text": [
            "Classification Report for BiLSTM \n",
            "              precision    recall  f1-score   support\n",
            "\n",
            "           0       0.79      0.89      0.84      2147\n",
            "           1       0.86      0.74      0.79      1958\n",
            "\n",
            "    accuracy                           0.82      4105\n",
            "   macro avg       0.82      0.81      0.81      4105\n",
            "weighted avg       0.82      0.82      0.82      4105\n",
            " \n"
          ],
          "name": "stdout"
        },
        {
          "output_type": "display_data",
          "data": {
            "image/png": "[encoded data removed]",
            "text/plain": [
              "<Figure size 432x288 with 2 Axes>"
            ]
          },
          "metadata": {
            "tags": [],
            "needs_background": "light"
          }
        }
      ]
    },
    {
      "cell_type": "code",
      "metadata": {
        "id": "Li7R91zjq7Gi"
      },
      "source": [
        "# Make predictions on the test data using the bilstm model\n",
        "y_preds_test = bilstm_model.predict(X_test_Glove, batch_size=BATCH_SIZE)"
      ],
      "execution_count": null,
      "outputs": []
    },
    {
      "cell_type": "code",
      "metadata": {
        "id": "e_zBHUSKayJS"
      },
      "source": [
        "# Generate classes from the one-hot encoded predictions\n",
        "y_preds_classes = reverseEncoded(y_preds_test)"
      ],
      "execution_count": null,
      "outputs": []
    },
    {
      "cell_type": "markdown",
      "metadata": {
        "id": "QrLZb4-di6Pq"
      },
      "source": [
        "Link to Web App: [link text](https://disaster-tweets-model.herokuapp.com/)"
      ]
    },
    {
      "cell_type": "code",
      "metadata": {
        "id": "ZSRN-iolFAy4"
      },
      "source": [
        ""
      ],
      "execution_count": null,
      "outputs": []
    }
  ]
}